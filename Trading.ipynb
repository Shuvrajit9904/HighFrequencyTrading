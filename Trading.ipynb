{
 "cells": [
  {
   "cell_type": "code",
   "execution_count": 40,
   "metadata": {},
   "outputs": [],
   "source": [
    "import datetime\n",
    "import sys\n",
    "from yahoo_finance_api2 import share\n",
    "from yahoo_finance_api2.exceptions import YahooFinanceError\n",
    "\n",
    "import matplotlib.pyplot as plt\n",
    "\n",
    "import numpy as np\n",
    "from sklearn.model_selection import train_test_split\n",
    "import pandas as pd\n",
    "import math\n",
    "\n",
    "from keras.models import Sequential\n",
    "from keras.layers import Dense\n",
    "from keras.layers import LSTM\n",
    "from sklearn.preprocessing import MinMaxScaler\n",
    "from sklearn.metrics import mean_squared_error"
   ]
  },
  {
   "cell_type": "code",
   "execution_count": 41,
   "metadata": {},
   "outputs": [],
   "source": [
    "stocks = ['F', \n",
    "          'GE', \n",
    "          'AAL', \n",
    "          'DIS', \n",
    "          'DAL', \n",
    "          'AAPL', \n",
    "          'MSFT', \n",
    "          'CCL', \n",
    "          'GPRO', \n",
    "          'ACB', \n",
    "          'PLUG', \n",
    "          'NCLH',\n",
    "          'SNAP',\n",
    "          'BAC',\n",
    "          'BA',\n",
    "          'FIT',\n",
    "          'UAL',\n",
    "          'MRNA',\n",
    "          'NIO',\n",
    "          'UBER',\n",
    "          'BABA',\n",
    "          'AMD',\n",
    "          'FB',\n",
    "          'CGC',\n",
    "          'TWTR',\n",
    "          'RCL',\n",
    "          'NFLX',\n",
    "          'CRON',\n",
    "          'ZNGA',\n",
    "          'T',\n",
    "          'KO',\n",
    "          'INO',\n",
    "          'SAVE',\n",
    "          'APHA',\n",
    "          'SBUX',\n",
    "          'LUV',\n",
    "          'PFE',\n",
    "          'JBLU',\n",
    "          'NKLA',\n",
    "          'MRO',\n",
    "          'MGM',\n",
    "          'GNUS',\n",
    "          'XOM',\n",
    "          'MFA',\n",
    "          'GUSH',\n",
    "          'SPCE',\n",
    "          'USO',\n",
    "          'NVDA',\n",
    "          'AMC']\n"
   ]
  },
  {
   "cell_type": "code",
   "execution_count": 13,
   "metadata": {},
   "outputs": [],
   "source": [
    "my_share = share.Share('NCLH')\n",
    "symbol_data = None\n",
    "\n",
    "\n",
    "symbol_data = pd.DataFrame.from_dict(my_share.get_historical(share.PERIOD_TYPE_DAY,\n",
    "                                          1,\n",
    "                                          share.FREQUENCY_TYPE_MINUTE,\n",
    "                                          1)).dropna()"
   ]
  },
  {
   "cell_type": "code",
   "execution_count": 14,
   "metadata": {},
   "outputs": [
    {
     "data": {
      "text/plain": [
       "(621, 6)"
      ]
     },
     "execution_count": 14,
     "metadata": {},
     "output_type": "execute_result"
    }
   ],
   "source": [
    "symbol_data.shape"
   ]
  },
  {
   "cell_type": "code",
   "execution_count": 36,
   "metadata": {},
   "outputs": [],
   "source": [
    "def create_dataset(dataset, look_back=1):\n",
    "    dataX, dataY = [], []\n",
    "    for i in range(len(dataset)-look_back-1):\n",
    "        a = dataset[i:(i+look_back), 1]\n",
    "        dataX.append(a)\n",
    "        dataY.append(1 if dataset[i + look_back, 1] > dataset[i + look_back-1, 1] else 0)\n",
    "    return np.array(dataX), np.array(dataY)"
   ]
  },
  {
   "cell_type": "code",
   "execution_count": 56,
   "metadata": {},
   "outputs": [],
   "source": [
    "look_back = 10\n",
    "dataX, dataY = create_dataset(symbol_data[['timestamp', 'close']].values, look_back)\n",
    "X_train, X_test, y_train, y_test = train_test_split(\n",
    "     dataX, dataY, test_size=0.33, random_state=42)\n",
    "X_train = np.reshape(X_train, (X_train.shape[0], 1, X_train.shape[1]))\n",
    "X_test = np.reshape(X_test, (X_test.shape[0], 1, X_test.shape[1]))"
   ]
  },
  {
   "cell_type": "code",
   "execution_count": 62,
   "metadata": {},
   "outputs": [
    {
     "name": "stdout",
     "output_type": "stream",
     "text": [
      "Train on 408 samples, validate on 202 samples\n",
      "Epoch 1/20\n",
      " - 2s - loss: 0.2638 - val_loss: 0.2445\n",
      "Epoch 2/20\n",
      " - 1s - loss: 0.2478 - val_loss: 0.2439\n",
      "Epoch 3/20\n",
      " - 1s - loss: 0.2474 - val_loss: 0.2448\n",
      "Epoch 4/20\n",
      " - 1s - loss: 0.2464 - val_loss: 0.2438\n",
      "Epoch 5/20\n",
      " - 1s - loss: 0.2461 - val_loss: 0.2438\n",
      "Epoch 6/20\n",
      " - 1s - loss: 0.2450 - val_loss: 0.2437\n",
      "Epoch 7/20\n",
      " - 1s - loss: 0.2451 - val_loss: 0.2438\n",
      "Epoch 8/20\n",
      " - 1s - loss: 0.2449 - val_loss: 0.2439\n",
      "Epoch 9/20\n",
      " - 1s - loss: 0.2449 - val_loss: 0.2438\n",
      "Epoch 10/20\n",
      " - 1s - loss: 0.2452 - val_loss: 0.2438\n",
      "Epoch 11/20\n",
      " - 1s - loss: 0.2447 - val_loss: 0.2443\n",
      "Epoch 12/20\n",
      " - 1s - loss: 0.2451 - val_loss: 0.2442\n",
      "Epoch 13/20\n",
      " - 1s - loss: 0.2447 - val_loss: 0.2438\n",
      "Epoch 14/20\n",
      " - 1s - loss: 0.2450 - val_loss: 0.2438\n",
      "Epoch 15/20\n",
      " - 1s - loss: 0.2446 - val_loss: 0.2439\n",
      "Epoch 16/20\n",
      " - 1s - loss: 0.2446 - val_loss: 0.2437\n",
      "Epoch 17/20\n",
      " - 1s - loss: 0.2448 - val_loss: 0.2438\n",
      "Epoch 18/20\n",
      " - 1s - loss: 0.2445 - val_loss: 0.2437\n",
      "Epoch 19/20\n",
      " - 1s - loss: 0.2447 - val_loss: 0.2437\n",
      "Epoch 20/20\n",
      " - 1s - loss: 0.2446 - val_loss: 0.2438\n"
     ]
    },
    {
     "data": {
      "text/plain": [
       "<keras.callbacks.History at 0x1a2af21a90>"
      ]
     },
     "execution_count": 62,
     "metadata": {},
     "output_type": "execute_result"
    }
   ],
   "source": [
    "model = Sequential()\n",
    "model.add(LSTM(4, input_shape=(1, look_back)))\n",
    "model.add(Dense(1))\n",
    "model.compile(loss='mean_squared_error', optimizer='adam')\n",
    "model.fit(X_train, y_train, validation_data=(X_test, y_test), epochs=20, batch_size=1, verbose=2)"
   ]
  },
  {
   "cell_type": "code",
   "execution_count": 65,
   "metadata": {},
   "outputs": [
    {
     "name": "stdout",
     "output_type": "stream",
     "text": [
      "0.24384675418386365\n"
     ]
    }
   ],
   "source": [
    "scores = model.evaluate(X_test, y_test, verbose=0)\n",
    "print(scores)"
   ]
  },
  {
   "cell_type": "code",
   "execution_count": 60,
   "metadata": {},
   "outputs": [
    {
     "data": {
      "text/plain": [
       "(408, 1, 10)"
      ]
     },
     "execution_count": 60,
     "metadata": {},
     "output_type": "execute_result"
    }
   ],
   "source": [
    "X_train.shape"
   ]
  },
  {
   "cell_type": "code",
   "execution_count": null,
   "metadata": {},
   "outputs": [],
   "source": []
  }
 ],
 "metadata": {
  "kernelspec": {
   "display_name": "Python 3",
   "language": "python",
   "name": "python3"
  },
  "language_info": {
   "codemirror_mode": {
    "name": "ipython",
    "version": 3
   },
   "file_extension": ".py",
   "mimetype": "text/x-python",
   "name": "python",
   "nbconvert_exporter": "python",
   "pygments_lexer": "ipython3",
   "version": "3.7.1"
  }
 },
 "nbformat": 4,
 "nbformat_minor": 2
}
